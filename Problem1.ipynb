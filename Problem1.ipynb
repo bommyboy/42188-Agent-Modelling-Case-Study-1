{
 "cells": [
  {
   "cell_type": "markdown",
   "metadata": {},
   "source": [
    "# Problem 1"
   ]
  },
  {
   "cell_type": "markdown",
   "metadata": {},
   "source": [
    "## Task 1"
   ]
  },
  {
   "cell_type": "markdown",
   "metadata": {},
   "source": [
    "Create an utility-maximizing agent that decides on the mode (CAR vs TRAIN vs SM) to take\n",
    "given a set of alternative (mode) specific attributes and its own (agent) internal characteristics.\n",
    "The agent’s action follows the multinomial logit choice model below: \n",
    "\n",
    "$$\n",
    "𝑉_{car} = −0.608 − 0.0111 × 𝐶𝐴𝑅_𝑇𝑇 − 0.00936 × 𝐶𝐴𝑅_𝐶𝑂 − 1.88 × 𝑆𝐸𝑁𝐼𝑂𝑅 \\\\\n",
    "𝑉_{train} = −0.0111 × 𝑇𝑅𝐴𝐼𝑁_𝑇𝑇 − 0.0268 × 𝑇𝑅𝐴𝐼𝑁_𝐶𝑂 − 0.00586 × 𝑇𝑅𝐴𝐼𝑁_𝐻𝐸 + 0.557 × 𝐺𝐴 \\\\\n",
    "𝑉_{SM} = −0.135 − 0.0111 × 𝑆𝑀_𝑇𝑇 − 0.0104 × 𝑆𝑀 𝐶𝑂𝑆𝑇 − 0.00586 × 𝑆𝑀_𝐻𝐸 − 1.88 × 𝑆𝐸𝑁𝐼𝑂𝑅 \\\\\n",
    "+ 0.557 × 𝐺𝐴\n",
    "$$"
   ]
  },
  {
   "cell_type": "markdown",
   "metadata": {},
   "source": [
    "where 𝐶𝐴𝑅_𝑇𝑇 is the car travel time, 𝐶𝐴𝑅_𝐶𝑂 is the car cost, 𝑇𝑅𝐴𝐼𝑁_𝑇𝑇 is the train travel time, 𝑇𝑅𝐴𝐼𝑁_𝐶𝑂\n",
    "is the train cost (considering the ownership of Swiss annual season ticket, GA), 𝑇𝑅𝐴𝐼𝑁_𝐻𝐸 is train head-\n",
    "way (in minutes), 𝑆𝑀_𝑇𝑇 is the Swissmetro travel time, 𝑆𝑀_𝐶𝑂 is the Swiss- metro cost (considering the\n",
    "ownership of 𝐺𝐴), 𝑆𝑀_𝐻𝐸 is the Swissmetro headway, 𝑆𝐸𝑁𝐼𝑂𝑅 is a dummy variable for senior people\n",
    "(age above 651 ) and 𝐺𝐴 a dummy variable that captures the effect of the Swiss annual season ticket for\n",
    "train."
   ]
  },
  {
   "cell_type": "code",
   "execution_count": 125,
   "metadata": {},
   "outputs": [],
   "source": [
    "from enum import Enum\n",
    "import numpy as np\n",
    "import pandas as pd\n",
    "import math\n",
    "\n",
    "rng = np.random.default_rng(1)\n",
    "# First, define the enum and class Agent that will take in the input and deterine which choice to make\n",
    "# In the data, the choice is defined in this manner so we will just follow it to make life good\n",
    "choices = np.array([1, 2, 3])\n",
    "\n",
    "    \n",
    "class Agent:\n",
    "    def __init__(self, car_tt = 0, car_co = 0, train_tt = 0, train_co = 0, train_he = 0, sm_tt = 0, sm_co = 0, sm_he = 0, senior = 0, ga = 0, cost_mul = 1 ):\n",
    "        self.car_tt = car_tt\n",
    "        self.car_co = car_co\n",
    "        self.train_tt = train_tt\n",
    "        self.train_co = train_co\n",
    "        self.train_he = train_he\n",
    "        self.sm_tt = sm_tt\n",
    "        self.sm_co = sm_co\n",
    "        self.sm_he = sm_he\n",
    "        self.senior = senior\n",
    "        self.ga = ga\n",
    "        self.cost_mul = cost_mul\n",
    "    \n",
    "    def _car_utility(self):\n",
    "        return -0.608 - 0.0111 * self.car_tt - 0.00936 * self.car_co - 1.88 * self.senior\n",
    "    \n",
    "    def _train_utility(self):\n",
    "        return -0.0111 * self.train_tt - 0.0268 * self.train_co - 0.00586 * self.train_he + 0.557 * self.ga\n",
    "    \n",
    "    def _SM_utility(self):\n",
    "        return -0.135 - 0.0111 * self.sm_tt - 0.0104 * self.sm_co * self.cost_mul - 0.00586 * self.sm_he - 1.88 * self.senior + 0.557 * self.ga\n",
    "    \n",
    "    def return_choice(self):\n",
    "        #In this function, we can either use the logit functions to convert it into a continuous probability curve or just see which utility is higher\n",
    "        #At high mu's the answer is basically the same\n",
    "        mu = 10.0\n",
    "        utility_list = [self._train_utility(), self._SM_utility(), self._car_utility()]\n",
    "        utility_list = [math.exp(mu * i) for i in utility_list]\n",
    "        Sum = sum(utility_list)\n",
    "        utility_list = [i/Sum for i in utility_list]\n",
    "        choice = rng.choice(choices, p=np.array(utility_list))\n",
    "        return choice\n",
    "    \n",
    "    "
   ]
  },
  {
   "cell_type": "markdown",
   "metadata": {},
   "source": [
    "## Task 2"
   ]
  },
  {
   "cell_type": "markdown",
   "metadata": {},
   "source": [
    "A. Compute the estimated market shares by both sample enumeration and simulation for the\n",
    "entire sample provided in the data file (N=10728)."
   ]
  },
  {
   "cell_type": "code",
   "execution_count": 89,
   "metadata": {},
   "outputs": [],
   "source": [
    "# Firstly, we have to read the dat file. For each of row of data, we extract the relevant variable and input the values into the agent class\n",
    "# We would then have a list of choice based on our prediction based on our model.\n",
    "\n",
    "#Read the .dat file as csv, change the directory according to your needs\n",
    "swiss_data = pd.read_csv(\n",
    "    r'E:\\Downloads\\Workspace\\42188 Agent modelling\\CS1- Agent Behaviour Simulation attached files 09 September, 2022 1047 AM\\swissmetro.dat',  delimiter=\"\\t\")"
   ]
  },
  {
   "cell_type": "code",
   "execution_count": 90,
   "metadata": {},
   "outputs": [
    {
     "name": "stdout",
     "output_type": "stream",
     "text": [
      "int64\n",
      "10728\n",
      "10710\n",
      "       AGE  SENIOR\n",
      "0        3       0\n",
      "1        3       0\n",
      "2        3       0\n",
      "3        3       0\n",
      "4        3       0\n",
      "...    ...     ...\n",
      "10723    5       1\n",
      "10724    5       1\n",
      "10725    5       1\n",
      "10726    5       1\n",
      "10727    5       1\n",
      "\n",
      "[10710 rows x 2 columns]\n"
     ]
    }
   ],
   "source": [
    "#Check the type for AGE variable\n",
    "print(swiss_data[\"AGE\"].dtypes)\n",
    "\n",
    "# In the data, most of the heading are just the variable but in all caps, however for senior,\n",
    "# we would have to create a new column based on the AGE column in the data where anyone with AGE value 6 has SENIOR 1 and the rest is 0\n",
    "# We would also to clean the senior column as there is a not know variable in which we will drop those rows\n",
    "\n",
    "# Function to make a new senior column\n",
    "def make_senior_col(row):\n",
    "    if row['AGE'] == 5:\n",
    "        return 1\n",
    "    else:\n",
    "        return 0\n",
    "\n",
    "#Number of rows before cleaning data\n",
    "print(swiss_data.shape[0])  \n",
    "swiss_data.drop(swiss_data[swiss_data['AGE'] == 6].index, inplace = True)\n",
    "swiss_data.drop(swiss_data[swiss_data['CHOICE'] == 0].index, inplace = True)\n",
    "\n",
    "#Number of rows after cleaning data and you do see some rows are removed so its good we accounted for these people with weird ages\n",
    "print(swiss_data.shape[0]) \n",
    "\n",
    "#Make new Senior column\n",
    "swiss_data['SENIOR'] = swiss_data.apply(lambda row: make_senior_col(row), axis=1)\n",
    "\n",
    "#Anyone with a 5 for AGE is 1 for SENIOR\n",
    "print(swiss_data[[\"AGE\", \"SENIOR\"]])"
   ]
  },
  {
   "cell_type": "code",
   "execution_count": 118,
   "metadata": {},
   "outputs": [],
   "source": [
    "#Now apply the agent choice into the dataframe\n",
    "# Function to make a new choice column\n",
    "def make_logit_choice(row, multiplier = 1):\n",
    "    agent = Agent(row[\"CAR_TT\"], row[\"CAR_CO\"], row[\"TRAIN_TT\"], row[\"TRAIN_CO\"], row[\"TRAIN_HE\"], row[\"SM_TT\"], row[\"SM_CO\"], row[\"SM_HE\"], row[\"SENIOR\"], row[\"GA\"], multiplier)\n",
    "    return agent.return_choice()\n",
    "\n",
    "#Make new logit choice column\n",
    "swiss_data['LOGIT_CHOICE'] = swiss_data.apply(lambda row: make_logit_choice(row), axis=1)"
   ]
  },
  {
   "cell_type": "code",
   "execution_count": 92,
   "metadata": {},
   "outputs": [],
   "source": [
    "#Perform sample enumeration\n",
    "def output(microdata):\n",
    "    idx = rng.choice(np.arange(microdata.shape[0]), size=int(microdata.shape[0] * 0.4))\n",
    "    #Add the row from the original data according to the index\n",
    "    sample = microdata.iloc[idx]\n",
    "    return sample\n",
    "\n",
    "sample_enumeration = output(swiss_data)"
   ]
  },
  {
   "cell_type": "markdown",
   "metadata": {},
   "source": [
    "B. Comment on both their values \\\n",
    "C. Compare against the observed market shares (computed using the CHOICE variable in the\n",
    "data set)."
   ]
  },
  {
   "cell_type": "code",
   "execution_count": 93,
   "metadata": {},
   "outputs": [
    {
     "name": "stdout",
     "output_type": "stream",
     "text": [
      "Logit Choice: \n",
      "1    0.022876\n",
      "2    0.589356\n",
      "3    0.387768\n",
      "Name: LOGIT_CHOICE, dtype: float64\n",
      "Sample Enumeration: \n",
      "1    0.133287\n",
      "2    0.592204\n",
      "3    0.274510\n",
      "Name: CHOICE, dtype: float64\n",
      "Observed Market Shares: \n",
      "1    0.132026\n",
      "2    0.580392\n",
      "3    0.287582\n",
      "Name: CHOICE, dtype: float64\n"
     ]
    }
   ],
   "source": [
    "# Compare share\n",
    "print(f\"Logit Choice: \\n{swiss_data['LOGIT_CHOICE'].value_counts(normalize=True).sort_index()}\")\n",
    "print(f\"Sample Enumeration: \\n{sample_enumeration['CHOICE'].value_counts(normalize=True).sort_index()}\")\n",
    "print(f\"Observed Market Shares: \\n{swiss_data['CHOICE'].value_counts(normalize=True).sort_index()}\")"
   ]
  },
  {
   "cell_type": "markdown",
   "metadata": {},
   "source": [
    "The logit model seems to predicted the same share of passengers that would ride the SM trains but had incorrect market shares for the train and car. This suggests that the utility functions for the train and car are incorrect or incomplete which results in the incorrect shares for train and car "
   ]
  },
  {
   "cell_type": "markdown",
   "metadata": {},
   "source": [
    "## Task 3"
   ]
  },
  {
   "cell_type": "markdown",
   "metadata": {},
   "source": [
    "Suppose that we know that market segmentation exists on income. We can then consider three\n",
    "markets, namely, low income, medium income and high income that are defined as follows:\n",
    "• Low Income: under CHF 50,000 (INCOME = 0 or 1)\n",
    "• Medium Income: between CHF 50,000 and CHF 100,000 (INCOME = 2)\n",
    "• High Income: Over CHF 100,000 (INCOME= 3)."
   ]
  },
  {
   "cell_type": "code",
   "execution_count": 121,
   "metadata": {},
   "outputs": [],
   "source": [
    "# Segregate by Income\n",
    "from audioop import mul\n",
    "\n",
    "\n",
    "low_income = swiss_data.copy().loc[(swiss_data['INCOME'] == 0) | (swiss_data['INCOME'] == 1)]\n",
    "middle_income = swiss_data.copy().loc[(swiss_data['INCOME'] == 2)]\n",
    "high_income = swiss_data.copy().loc[(swiss_data['INCOME'] == 3)]\n",
    "\n",
    "# Create a array of linspace from 0.8 to 1.2 to modify the train cost, 5 equal slices would 0.8, 0.9 ... 1.2\n",
    "multiplier = np.linspace(0.8, 1.2, 5)"
   ]
  },
  {
   "cell_type": "code",
   "execution_count": 126,
   "metadata": {},
   "outputs": [
    {
     "name": "stdout",
     "output_type": "stream",
     "text": [
      "Logit Choice Low Income 0.8: \n",
      "1    0.045926\n",
      "2    0.442963\n",
      "3    0.511111\n",
      "Name: LOGIT_CHOICE_0.8, dtype: float64\n",
      "Logit Choice Low Income 0.9: \n",
      "1    0.047407\n",
      "2    0.429630\n",
      "3    0.522963\n",
      "Name: LOGIT_CHOICE_0.9, dtype: float64\n",
      "Logit Choice Low Income 1.0: \n",
      "1    0.046420\n",
      "2    0.406914\n",
      "3    0.546667\n",
      "Name: LOGIT_CHOICE_1.0, dtype: float64\n",
      "Logit Choice Low Income 1.1: \n",
      "1    0.050864\n",
      "2    0.390123\n",
      "3    0.559012\n",
      "Name: LOGIT_CHOICE_1.1, dtype: float64\n",
      "Logit Choice Low Income 1.2: \n",
      "1    0.052346\n",
      "2    0.364938\n",
      "3    0.582716\n",
      "Name: LOGIT_CHOICE_1.2, dtype: float64\n"
     ]
    }
   ],
   "source": [
    "#Low income\n",
    "for i in range(len(multiplier)):\n",
    "    #Make new logit choice column\n",
    "    low_income[f\"LOGIT_CHOICE_{multiplier[i]}\"] = low_income.apply(lambda row: make_logit_choice(row, multiplier[i]), axis=1)\n",
    "    print(f\"Logit Choice Low Income {multiplier[i]}: \\n{low_income[f'LOGIT_CHOICE_{multiplier[i]}'].value_counts(normalize=True).sort_index()}\")"
   ]
  },
  {
   "cell_type": "code",
   "execution_count": 123,
   "metadata": {},
   "outputs": [
    {
     "name": "stdout",
     "output_type": "stream",
     "text": [
      "Logit Choice Middle Income 0.8: \n",
      "1    0.022758\n",
      "2    0.657028\n",
      "3    0.320214\n",
      "Name: LOGIT_CHOICE_0.8, dtype: float64\n",
      "Logit Choice Middle Income 0.9: \n",
      "1    0.020884\n",
      "2    0.657028\n",
      "3    0.322088\n",
      "Name: LOGIT_CHOICE_0.9, dtype: float64\n",
      "Logit Choice Middle Income 1.0: \n",
      "1    0.018474\n",
      "2    0.654083\n",
      "3    0.327443\n",
      "Name: LOGIT_CHOICE_1.0, dtype: float64\n",
      "Logit Choice Middle Income 1.1: \n",
      "1    0.016064\n",
      "2    0.659438\n",
      "3    0.324498\n",
      "Name: LOGIT_CHOICE_1.1, dtype: float64\n",
      "Logit Choice Middle Income 1.2: \n",
      "1    0.013119\n",
      "2    0.659438\n",
      "3    0.327443\n",
      "Name: LOGIT_CHOICE_1.2, dtype: float64\n"
     ]
    }
   ],
   "source": [
    "#Middle income\n",
    "for i in range(len(multiplier)):\n",
    "    #Make new logit choice column\n",
    "    middle_income[f\"LOGIT_CHOICE_{multiplier[i]}\"] = middle_income.apply(lambda row: make_logit_choice(row, multiplier[i]), axis=1)\n",
    "    print(f\"Logit Choice Middle Income {multiplier[i]}: \\n{middle_income[f'LOGIT_CHOICE_{multiplier[i]}'].value_counts(normalize=True).sort_index()}\")"
   ]
  },
  {
   "cell_type": "code",
   "execution_count": 124,
   "metadata": {},
   "outputs": [
    {
     "name": "stdout",
     "output_type": "stream",
     "text": [
      "Logit Choice High Income 0.8: \n",
      "1    0.018312\n",
      "2    0.647859\n",
      "3    0.333828\n",
      "Name: LOGIT_CHOICE_0.8, dtype: float64\n",
      "Logit Choice High Income 0.9: \n",
      "1    0.015095\n",
      "2    0.649592\n",
      "3    0.335313\n",
      "Name: LOGIT_CHOICE_0.9, dtype: float64\n",
      "Logit Choice High Income 1.0: \n",
      "1    0.012126\n",
      "2    0.653056\n",
      "3    0.334818\n",
      "Name: LOGIT_CHOICE_1.0, dtype: float64\n",
      "Logit Choice High Income 1.1: \n",
      "1    0.008661\n",
      "2    0.658748\n",
      "3    0.332591\n",
      "Name: LOGIT_CHOICE_1.1, dtype: float64\n",
      "Logit Choice High Income 1.2: \n",
      "1    0.007424\n",
      "2    0.658500\n",
      "3    0.334076\n",
      "Name: LOGIT_CHOICE_1.2, dtype: float64\n"
     ]
    }
   ],
   "source": [
    "#High income\n",
    "for i in range(len(multiplier)):\n",
    "    #Make new logit choice column\n",
    "    high_income[f\"LOGIT_CHOICE_{multiplier[i]}\"] = high_income.apply(lambda row: make_logit_choice(row, multiplier[i]), axis=1)\n",
    "    print(f\"Logit Choice High Income {multiplier[i]}: \\n{high_income[f'LOGIT_CHOICE_{multiplier[i]}'].value_counts(normalize=True).sort_index()}\")"
   ]
  },
  {
   "cell_type": "markdown",
   "metadata": {},
   "source": [
    "In general, changing the cost of SM metro will not affect market share for the middle and high income classes. It will however affect the market share of the low income classes changing the market share from 42% at 0.8 times the cost to 36% at 1.2 times the cost. Therefore, increasing train costs could have the effect of pricing out low income families from using it."
   ]
  }
 ],
 "metadata": {
  "kernelspec": {
   "display_name": "Python 3.10.3 64-bit",
   "language": "python",
   "name": "python3"
  },
  "language_info": {
   "codemirror_mode": {
    "name": "ipython",
    "version": 3
   },
   "file_extension": ".py",
   "mimetype": "text/x-python",
   "name": "python",
   "nbconvert_exporter": "python",
   "pygments_lexer": "ipython3",
   "version": "3.10.3"
  },
  "orig_nbformat": 4,
  "vscode": {
   "interpreter": {
    "hash": "a9cff5a362bc38ef45d817ae74b1af54d6a076e3d773891282bce078b815ba34"
   }
  }
 },
 "nbformat": 4,
 "nbformat_minor": 2
}
