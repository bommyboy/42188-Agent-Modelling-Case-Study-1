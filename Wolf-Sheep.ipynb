{
 "cells": [
  {
   "cell_type": "markdown",
   "id": "8eaac285",
   "metadata": {},
   "source": [
    "# Wolf-Sheep Predation Model"
   ]
  },
  {
   "cell_type": "markdown",
   "id": "33da1d3a",
   "metadata": {},
   "source": [
    "For this exercise we refer to the original implementation from Wilensky (1997) in `Mesa`. As reference, we used the code from `Mesa`'s example for this case study: https://github.com/projectmesa/mesa/tree/main/examples/wolf_sheep\n",
    "\n",
    "Before you start, we reccomend you to go ahead and do the basic `Mesa` tutorial from:\n",
    "https://mesa.readthedocs.io/en/latest/tutorials/intro_tutorial.html\n",
    "\n",
    "We will visit this tutorial in class.\n",
    "\n",
    "\n",
    "## Summary\n",
    "\n",
    "A simple ecological model, consisting of three agent types: wolves, sheep, and grass. The wolves and the sheep wander around the grid at random. Wolves and sheep both expend energy moving around, and replenish it by eating. Sheep eat grass, and wolves eat sheep if they end up on the same grid cell.\n",
    "\n",
    "If wolves and sheep have enough energy, they reproduce, creating a new wolf or sheep (in this simplified model, only one parent is needed for reproduction). The grass on each cell regrows at a constant rate. If any wolves and sheep run out of energy, they die. \n"
   ]
  },
  {
   "cell_type": "code",
   "execution_count": 13,
   "id": "c680a3ec",
   "metadata": {},
   "outputs": [],
   "source": [
    "import mesa\n",
    "import numpy as np\n",
    "import plotly as py\n",
    "import plotly.graph_objects as go"
   ]
  },
  {
   "cell_type": "markdown",
   "id": "9cc8f0b7",
   "metadata": {},
   "source": [
    "Both sheeps and wolf roam around in random fashion. Let's first create an instance of an `Mesa` agent class that we'll call `RandomWalker`. Both sheeps and wolfs will be random walkers"
   ]
  },
  {
   "cell_type": "code",
   "execution_count": 14,
   "id": "2574fc6f",
   "metadata": {},
   "outputs": [],
   "source": [
    "\"\"\"\n",
    "Generalized behavior for random walking, one grid cell at a time.\n",
    "\"\"\"\n",
    "\n",
    "class RandomWalker(mesa.Agent):\n",
    "    \"\"\"\n",
    "    Class implementing random walker methods in a generalized manner.\n",
    "    Not intended to be used on its own, but to inherit its methods to multiple\n",
    "    other agents.\n",
    "    \"\"\"\n",
    "\n",
    "    grid = None\n",
    "    x = None\n",
    "    y = None\n",
    "    moore = True\n",
    "\n",
    "    def __init__(self, unique_id, pos, model, moore=True):\n",
    "        \"\"\"\n",
    "        grid: The MultiGrid object in which the agent lives.\n",
    "        x: The agent's current x coordinate\n",
    "        y: The agent's current y coordinate\n",
    "        moore: If True, may move in all 8 directions.\n",
    "                Otherwise, only up, down, left, right.\n",
    "        \"\"\"\n",
    "        super().__init__(unique_id, model)\n",
    "        self.pos = pos\n",
    "        self.moore = moore\n",
    "\n",
    "    def random_move(self):\n",
    "        \"\"\"\n",
    "        Step one cell in any allowable direction.\n",
    "        \"\"\"\n",
    "        # Pick the next cell from the adjacent cells.\n",
    "        next_moves = self.model.grid.get_neighborhood(self.pos, self.moore, True)\n",
    "        next_move = self.random.choice(next_moves)\n",
    "        # Now move:\n",
    "        self.model.grid.move_agent(self, next_move)"
   ]
  },
  {
   "cell_type": "markdown",
   "id": "a73fa48d",
   "metadata": {},
   "source": [
    "Now, lets define our two agents, `Sheep` and `Wolf` as `RandomWalker` agents"
   ]
  },
  {
   "cell_type": "code",
   "execution_count": 15,
   "id": "dfa47354",
   "metadata": {},
   "outputs": [],
   "source": [
    "class Sheep(RandomWalker):\n",
    "    \"\"\"\n",
    "    A sheep that walks around, reproduces (asexually) and gets eaten.\n",
    "    The init is the same as the RandomWalker.\n",
    "    \"\"\"\n",
    "\n",
    "    energy = None\n",
    "\n",
    "    def __init__(self, unique_id, pos, model, moore, energy=None):\n",
    "        super().__init__(unique_id, pos, model, moore=moore)\n",
    "        self.energy = energy\n",
    "\n",
    "    def step(self):\n",
    "        \"\"\"\n",
    "        A model step. Move, then eat grass and reproduce.\n",
    "        \"\"\"\n",
    "        self.random_move()\n",
    "        living = True\n",
    "\n",
    "        if self.model.grass:\n",
    "            # Reduce energy\n",
    "            self.energy -= 1\n",
    "\n",
    "            # If there is grass available, eat it\n",
    "            this_cell = self.model.grid.get_cell_list_contents([self.pos])\n",
    "            grass_patch = [obj for obj in this_cell if isinstance(obj, GrassPatch)][0]\n",
    "            if grass_patch.fully_grown:\n",
    "                self.energy += self.model.sheep_gain_from_food\n",
    "                grass_patch.fully_grown = False\n",
    "\n",
    "            # Death\n",
    "            if self.energy < 0:\n",
    "                self.model.grid.remove_agent(self)\n",
    "                self.model.schedule.remove(self)\n",
    "                living = False\n",
    "\n",
    "        if living and self.random.random() < self.model.sheep_reproduce:\n",
    "            # Create a new sheep:\n",
    "            if self.model.grass:\n",
    "                self.energy /= 2\n",
    "            lamb = Sheep(\n",
    "                self.model.next_id(), self.pos, self.model, self.moore, self.energy\n",
    "            )\n",
    "            self.model.grid.place_agent(lamb, self.pos)\n",
    "            self.model.schedule.add(lamb)"
   ]
  },
  {
   "cell_type": "code",
   "execution_count": 16,
   "id": "190427ca",
   "metadata": {},
   "outputs": [],
   "source": [
    "class Wolf(RandomWalker):\n",
    "    \"\"\"\n",
    "    A wolf that walks around, reproduces (asexually) and eats sheep.\n",
    "    \"\"\"\n",
    "\n",
    "    energy = None\n",
    "\n",
    "    def __init__(self, unique_id, pos, model, moore, energy=None):\n",
    "        super().__init__(unique_id, pos, model, moore=moore)\n",
    "        self.energy = energy\n",
    "\n",
    "    def step(self):\n",
    "        self.random_move()\n",
    "        self.energy -= 1\n",
    "\n",
    "        # If there are sheep present, eat one\n",
    "        x, y = self.pos\n",
    "        this_cell = self.model.grid.get_cell_list_contents([self.pos])\n",
    "        sheep = [obj for obj in this_cell if isinstance(obj, Sheep)]\n",
    "        if len(sheep) > 0:\n",
    "            sheep_to_eat = self.random.choice(sheep)\n",
    "            self.energy += self.model.wolf_gain_from_food\n",
    "\n",
    "            # Kill the sheep\n",
    "            self.model.grid.remove_agent(sheep_to_eat)\n",
    "            self.model.schedule.remove(sheep_to_eat)\n",
    "\n",
    "        # Death or reproduction\n",
    "        if self.energy < 0:\n",
    "            self.model.grid.remove_agent(self)\n",
    "            self.model.schedule.remove(self)\n",
    "        else:\n",
    "            if self.random.random() < self.model.wolf_reproduce:\n",
    "                # Create a new wolf cub\n",
    "                self.energy /= 2\n",
    "                cub = Wolf(\n",
    "                    self.model.next_id(), self.pos, self.model, self.moore, self.energy\n",
    "                )\n",
    "                self.model.grid.place_agent(cub, cub.pos)\n",
    "                self.model.schedule.add(cub)"
   ]
  },
  {
   "cell_type": "markdown",
   "id": "53d0c336",
   "metadata": {},
   "source": [
    "And the grass, `GrassPatch`, as a regular (not random walker) agent..."
   ]
  },
  {
   "cell_type": "code",
   "execution_count": 17,
   "id": "e060fa0a",
   "metadata": {},
   "outputs": [],
   "source": [
    "class GrassPatch(mesa.Agent):\n",
    "    \"\"\"\n",
    "    A patch of grass that grows at a fixed rate and it is eaten by sheep\n",
    "    \"\"\"\n",
    "\n",
    "    def __init__(self, unique_id, pos, model, fully_grown, countdown):\n",
    "        \"\"\"\n",
    "        Creates a new patch of grass\n",
    "        Args:\n",
    "            grown: (boolean) Whether the patch of grass is fully grown or not\n",
    "            countdown: Time for the patch of grass to be fully grown again\n",
    "        \"\"\"\n",
    "        super().__init__(unique_id, model)\n",
    "        self.fully_grown = fully_grown\n",
    "        self.countdown = countdown\n",
    "        self.pos = pos\n",
    "\n",
    "    def step(self):\n",
    "        if not self.fully_grown:\n",
    "            if self.countdown <= 0:\n",
    "                # Set as fully grown\n",
    "                self.fully_grown = True\n",
    "                self.countdown = self.model.grass_regrowth_time\n",
    "            else:\n",
    "                self.countdown -= 1"
   ]
  },
  {
   "cell_type": "markdown",
   "id": "3dfe9ae8",
   "metadata": {},
   "source": [
    "Now let's create our `Mesa` model. Initiate the parameters of interest (self explanatory), create all agents, define the `step` function and the `run_model`"
   ]
  },
  {
   "cell_type": "code",
   "execution_count": 23,
   "id": "cf7de75c",
   "metadata": {},
   "outputs": [],
   "source": [
    "class WolfSheep(mesa.Model):\n",
    "    \"\"\"\n",
    "    Wolf-Sheep Predation Model\n",
    "    \"\"\"\n",
    "\n",
    "    height = 20\n",
    "    width = 20\n",
    "\n",
    "    initial_sheep = 100\n",
    "    initial_wolves = 50\n",
    "\n",
    "    sheep_reproduce = 0.04\n",
    "    wolf_reproduce = 0.05\n",
    "\n",
    "    wolf_gain_from_food = 20\n",
    "\n",
    "    grass = False\n",
    "    grass_regrowth_time = 30\n",
    "    sheep_gain_from_food = 4\n",
    "\n",
    "    verbose = True  # Print-monitoring\n",
    "\n",
    "    description = (\n",
    "        \"A model for simulating wolf and sheep (predator-prey) ecosystem modelling.\"\n",
    "    )\n",
    "\n",
    "    def __init__(\n",
    "        self,\n",
    "        width=20,\n",
    "        height=20,\n",
    "        initial_sheep=100,\n",
    "        initial_wolves=50,\n",
    "        wolf_reproduce=0.05,\n",
    "        wolf_gain_from_food=20,\n",
    "        grass=False,\n",
    "        grass_regrowth_time=30,\n",
    "        sheep_gain_from_food=4,\n",
    "    ):\n",
    "        \"\"\"\n",
    "        Create a new Wolf-Sheep model with the given parameters.\n",
    "        Args:\n",
    "            initial_sheep: Number of sheep to start with\n",
    "            initial_wolves: Number of wolves to start with\n",
    "            sheep_reproduce: Probability of each sheep reproducing each step\n",
    "            wolf_reproduce: Probability of each wolf reproducing each step\n",
    "            wolf_gain_from_food: Energy a wolf gains from eating a sheep\n",
    "            grass: Whether to have the sheep eat grass for energy\n",
    "            grass_regrowth_time: How long it takes for a grass patch to regrow\n",
    "                                 once it is eaten\n",
    "            sheep_gain_from_food: Energy sheep gain from grass, if enabled.\n",
    "        \"\"\"\n",
    "        super().__init__()\n",
    "        # Set parameters\n",
    "        self.width = width\n",
    "        self.height = height\n",
    "        self.initial_sheep = initial_sheep\n",
    "        self.initial_wolves = initial_wolves\n",
    "        self.sheep_reproduce = sheep_reproduce\n",
    "        self.wolf_reproduce = wolf_reproduce\n",
    "        self.wolf_gain_from_food = wolf_gain_from_food\n",
    "        self.grass = grass\n",
    "        self.grass_regrowth_time = grass_regrowth_time\n",
    "        self.sheep_gain_from_food = sheep_gain_from_food\n",
    "        \n",
    "        self.grass_count = 0\n",
    "        self.wolves_evolution = []\n",
    "        self.sheep_evolution = []\n",
    "        self.grass_evolution = []\n",
    "\n",
    "        self.schedule = RandomActivationByTypeFiltered(self)\n",
    "        self.grid = mesa.space.MultiGrid(self.width, self.height, torus=True)\n",
    "        self.datacollector = mesa.DataCollector(\n",
    "            {\n",
    "                \"Wolves\": lambda m: m.schedule.get_type_count(Wolf),\n",
    "                \"Sheep\": lambda m: m.schedule.get_type_count(Sheep),\n",
    "                \"Grass\": lambda m: m.schedule.get_type_count(GrassPatch, lambda x: x.fully_grown),\n",
    "            }\n",
    "        )\n",
    "\n",
    "        # Create sheep:\n",
    "        for i in range(self.initial_sheep):\n",
    "            x = self.random.randrange(self.width)\n",
    "            y = self.random.randrange(self.height)\n",
    "            energy = self.random.randrange(2 * self.sheep_gain_from_food)\n",
    "            sheep = Sheep(self.next_id(), (x, y), self, True, energy)\n",
    "            self.grid.place_agent(sheep, (x, y))\n",
    "            self.schedule.add(sheep)\n",
    "\n",
    "        # Create wolves\n",
    "        for i in range(self.initial_wolves):\n",
    "            x = self.random.randrange(self.width)\n",
    "            y = self.random.randrange(self.height)\n",
    "            energy = self.random.randrange(2 * self.wolf_gain_from_food)\n",
    "            wolf = Wolf(self.next_id(), (x, y), self, True, energy)\n",
    "            self.grid.place_agent(wolf, (x, y))\n",
    "            self.schedule.add(wolf)\n",
    "\n",
    "        # Create grass patches\n",
    "        if self.grass:\n",
    "            for agent, x, y in self.grid.coord_iter():\n",
    "\n",
    "                fully_grown = self.random.choice([True, False])\n",
    "\n",
    "                if fully_grown:\n",
    "                    countdown = self.grass_regrowth_time\n",
    "                else:\n",
    "                    countdown = self.random.randrange(self.grass_regrowth_time)\n",
    "\n",
    "                patch = GrassPatch(self.next_id(), (x, y), self, fully_grown, countdown)\n",
    "                self.grid.place_agent(patch, (x, y))\n",
    "                self.schedule.add(patch)\n",
    "\n",
    "        self.running = True\n",
    "        self.datacollector.collect(self)\n",
    "\n",
    "    def step(self):\n",
    "        self.schedule.step()\n",
    "        # collect data\n",
    "        self.datacollector.collect(self)\n",
    "        if self.verbose:\n",
    "            print(\n",
    "                [\n",
    "                    self.schedule.time,\n",
    "                    self.schedule.get_type_count(Wolf),\n",
    "                    self.schedule.get_type_count(Sheep),\n",
    "                    self.schedule.get_type_count(GrassPatch, lambda x: x.fully_grown),\n",
    "                    #self.grass_count,\n",
    "                ]\n",
    "            )\n",
    "\n",
    "    def run_model(self, step_count=100):\n",
    "\n",
    "        if self.verbose:\n",
    "            print(\"Initial number wolves: \", self.schedule.get_type_count(Wolf))\n",
    "            print(\"Initial number sheep: \", self.schedule.get_type_count(Sheep))\n",
    "            print(\n",
    "                \"Initial number grass: \",\n",
    "                self.schedule.get_type_count(GrassPatch, lambda x: x.fully_grown),\n",
    "                #self.grass_count,\n",
    "            )\n",
    "\n",
    "        for i in range(step_count):\n",
    "            self.step()\n",
    "            self.wolves_evolution.append(self.schedule.get_type_count(Wolf))\n",
    "            self.sheep_evolution.append(self.schedule.get_type_count(Sheep))\n",
    "            self.grass_evolution.append(self.schedule.get_type_count(GrassPatch, lambda x: x.fully_grown))\n",
    "            \n",
    "        if self.verbose:\n",
    "            print(\"\")\n",
    "            print(\"Final number wolves: \", self.schedule.get_type_count(Wolf))\n",
    "            print(\"Final number sheep: \", self.schedule.get_type_count(Sheep))\n",
    "            print(\n",
    "                \"Final number grass: \",\n",
    "                self.schedule.get_type_count(GrassPatch, lambda x: x.fully_grown),\n",
    "                #self.grass_count,\n",
    "            )"
   ]
  },
  {
   "cell_type": "markdown",
   "id": "26d75ffc",
   "metadata": {},
   "source": [
    "Small extension to `Mesa`: Since we want are interest in computing the fully grown grass, we need a scheduler that has a `get_type_count` method to allow for filtering of agents by a function before counting."
   ]
  },
  {
   "cell_type": "code",
   "execution_count": 24,
   "id": "e64c03aa",
   "metadata": {},
   "outputs": [],
   "source": [
    "from typing import Type, Callable\n",
    "\n",
    "class RandomActivationByTypeFiltered(mesa.time.RandomActivationByType):\n",
    "    \"\"\"\n",
    "    A scheduler that overrides the get_type_count method to allow for filtering\n",
    "    of agents by a function before counting.\n",
    "    Example:\n",
    "    >>> scheduler = RandomActivationByTypeFiltered(model)\n",
    "    >>> scheduler.get_type_count(AgentA, lambda agent: agent.some_attribute > 10)\n",
    "    \"\"\"\n",
    "\n",
    "    def get_type_count(\n",
    "        self,\n",
    "        type_class: Type[mesa.Agent],\n",
    "        filter_func: Callable[[mesa.Agent], bool] = None,\n",
    "    ) -> int:\n",
    "        \"\"\"\n",
    "        Returns the current number of agents of certain type in the queue that satisfy the filter function.\n",
    "        \"\"\"\n",
    "        count = 0\n",
    "        for agent in self.agents_by_type[type_class].values():\n",
    "            if filter_func is None or filter_func(agent):\n",
    "                count += 1\n",
    "        return count"
   ]
  },
  {
   "cell_type": "markdown",
   "id": "3af6e8aa",
   "metadata": {},
   "source": [
    "Now, let's define our model initial parameters. We will keep the default onws for now, but turn on the `Grass` agent."
   ]
  },
  {
   "cell_type": "code",
   "execution_count": 29,
   "id": "3fe79453",
   "metadata": {},
   "outputs": [],
   "source": [
    "model = WolfSheep(grass=True)"
   ]
  },
  {
   "cell_type": "markdown",
   "id": "f6e98a6b",
   "metadata": {},
   "source": [
    "And let's run it."
   ]
  },
  {
   "cell_type": "code",
   "execution_count": 30,
   "id": "da551eb7",
   "metadata": {},
   "outputs": [
    {
     "name": "stdout",
     "output_type": "stream",
     "text": [
      "Initial number wolves:  50\n",
      "Initial number sheep:  100\n",
      "Initial number grass:  185\n",
      "[1, 53, 84, 147]\n",
      "[2, 55, 75, 137]\n",
      "[3, 57, 65, 119]\n",
      "[4, 59, 59, 107]\n",
      "[5, 62, 45, 108]\n",
      "[6, 63, 41, 109]\n",
      "[7, 69, 36, 112]\n",
      "[8, 72, 27, 112]\n",
      "[9, 76, 25, 115]\n",
      "[10, 76, 17, 127]\n",
      "[11, 70, 19, 133]\n",
      "[12, 69, 16, 137]\n",
      "[13, 68, 12, 146]\n",
      "[14, 64, 11, 154]\n",
      "[15, 64, 11, 157]\n",
      "[16, 66, 9, 160]\n",
      "[17, 66, 8, 166]\n",
      "[18, 62, 7, 166]\n",
      "[19, 59, 8, 171]\n",
      "[20, 58, 5, 177]\n",
      "[21, 55, 4, 180]\n",
      "[22, 56, 4, 188]\n",
      "[23, 53, 4, 192]\n",
      "[24, 48, 5, 198]\n",
      "[25, 51, 5, 203]\n",
      "[26, 47, 5, 210]\n",
      "[27, 44, 3, 213]\n",
      "[28, 43, 2, 219]\n",
      "[29, 44, 2, 224]\n",
      "[30, 40, 2, 233]\n",
      "[31, 37, 1, 273]\n",
      "[32, 36, 1, 291]\n",
      "[33, 37, 1, 309]\n",
      "[34, 35, 1, 308]\n",
      "[35, 37, 1, 326]\n",
      "[36, 38, 2, 326]\n",
      "[37, 32, 2, 338]\n",
      "[38, 33, 2, 336]\n",
      "[39, 31, 2, 340]\n",
      "[40, 29, 2, 347]\n",
      "[41, 29, 2, 346]\n",
      "[42, 26, 2, 352]\n",
      "[43, 24, 2, 352]\n",
      "[44, 20, 2, 356]\n",
      "[45, 18, 2, 363]\n",
      "[46, 16, 1, 368]\n",
      "[47, 14, 1, 371]\n",
      "[48, 12, 1, 371]\n",
      "[49, 13, 1, 377]\n",
      "[50, 9, 1, 378]\n",
      "[51, 8, 1, 378]\n",
      "[52, 9, 1, 379]\n",
      "[53, 8, 1, 380]\n",
      "[54, 6, 1, 380]\n",
      "[55, 7, 1, 379]\n",
      "[56, 5, 1, 382]\n",
      "[57, 5, 2, 381]\n",
      "[58, 2, 2, 383]\n",
      "[59, 2, 2, 382]\n",
      "[60, 0, 2, 381]\n",
      "[61, 0, 2, 381]\n",
      "[62, 0, 2, 380]\n",
      "[63, 0, 2, 380]\n",
      "[64, 0, 2, 380]\n",
      "[65, 0, 2, 379]\n",
      "[66, 0, 2, 379]\n",
      "[67, 0, 2, 379]\n",
      "[68, 0, 3, 380]\n",
      "[69, 0, 3, 379]\n",
      "[70, 0, 3, 379]\n",
      "[71, 0, 3, 380]\n",
      "[72, 0, 4, 381]\n",
      "[73, 0, 4, 380]\n",
      "[74, 0, 4, 380]\n",
      "[75, 0, 4, 379]\n",
      "[76, 0, 4, 377]\n",
      "[77, 0, 3, 376]\n",
      "[78, 0, 3, 375]\n",
      "[79, 0, 4, 374]\n",
      "[80, 0, 5, 371]\n",
      "[81, 0, 5, 369]\n",
      "[82, 0, 5, 365]\n",
      "[83, 0, 5, 362]\n",
      "[84, 0, 5, 361]\n",
      "[85, 0, 5, 359]\n",
      "[86, 0, 5, 355]\n",
      "[87, 0, 6, 355]\n",
      "[88, 0, 6, 355]\n",
      "[89, 0, 6, 351]\n",
      "[90, 0, 6, 351]\n",
      "[91, 0, 6, 350]\n",
      "[92, 0, 6, 348]\n",
      "[93, 0, 7, 345]\n",
      "[94, 0, 7, 343]\n",
      "[95, 0, 7, 343]\n",
      "[96, 0, 8, 338]\n",
      "[97, 0, 8, 335]\n",
      "[98, 0, 10, 332]\n",
      "[99, 0, 9, 327]\n",
      "[100, 0, 9, 324]\n",
      "[101, 0, 10, 320]\n",
      "[102, 0, 10, 316]\n",
      "[103, 0, 10, 314]\n",
      "[104, 0, 10, 311]\n",
      "[105, 0, 10, 308]\n",
      "[106, 0, 11, 307]\n",
      "[107, 0, 11, 306]\n",
      "[108, 0, 11, 301]\n",
      "[109, 0, 11, 297]\n",
      "[110, 0, 11, 300]\n",
      "[111, 0, 11, 296]\n",
      "[112, 0, 11, 291]\n",
      "[113, 0, 11, 290]\n",
      "[114, 0, 10, 290]\n",
      "[115, 0, 10, 288]\n",
      "[116, 0, 12, 291]\n",
      "[117, 0, 12, 293]\n",
      "[118, 0, 15, 287]\n",
      "[119, 0, 16, 281]\n",
      "[120, 0, 16, 283]\n",
      "[121, 0, 14, 281]\n",
      "[122, 0, 12, 281]\n",
      "[123, 0, 12, 275]\n",
      "[124, 0, 12, 276]\n",
      "[125, 0, 13, 269]\n",
      "[126, 0, 14, 266]\n",
      "[127, 0, 15, 262]\n",
      "[128, 0, 15, 262]\n",
      "[129, 0, 16, 267]\n",
      "[130, 0, 17, 268]\n",
      "[131, 0, 17, 262]\n",
      "[132, 0, 16, 261]\n",
      "[133, 0, 16, 257]\n",
      "[134, 0, 18, 262]\n",
      "[135, 0, 19, 260]\n",
      "[136, 0, 18, 254]\n",
      "[137, 0, 18, 251]\n",
      "[138, 0, 18, 250]\n",
      "[139, 0, 18, 255]\n",
      "[140, 0, 18, 253]\n",
      "[141, 0, 17, 247]\n",
      "[142, 0, 18, 249]\n",
      "[143, 0, 19, 253]\n",
      "[144, 0, 20, 251]\n",
      "[145, 0, 21, 250]\n",
      "[146, 0, 21, 250]\n",
      "[147, 0, 21, 244]\n",
      "[148, 0, 22, 246]\n",
      "[149, 0, 22, 244]\n",
      "[150, 0, 22, 244]\n",
      "[151, 0, 21, 238]\n",
      "[152, 0, 21, 239]\n",
      "[153, 0, 23, 236]\n",
      "[154, 0, 24, 241]\n",
      "[155, 0, 23, 241]\n",
      "[156, 0, 24, 243]\n",
      "[157, 0, 24, 250]\n",
      "[158, 0, 24, 242]\n",
      "[159, 0, 24, 241]\n",
      "[160, 0, 24, 237]\n",
      "[161, 0, 23, 240]\n",
      "[162, 0, 23, 243]\n",
      "[163, 0, 24, 240]\n",
      "[164, 0, 24, 232]\n",
      "[165, 0, 23, 229]\n",
      "[166, 0, 24, 232]\n",
      "[167, 0, 25, 223]\n",
      "[168, 0, 25, 226]\n",
      "[169, 0, 26, 226]\n",
      "[170, 0, 26, 216]\n",
      "[171, 0, 26, 208]\n",
      "[172, 0, 27, 208]\n",
      "[173, 0, 27, 201]\n",
      "[174, 0, 27, 202]\n",
      "[175, 0, 27, 199]\n",
      "[176, 0, 30, 188]\n",
      "[177, 0, 33, 191]\n",
      "[178, 0, 35, 185]\n",
      "[179, 0, 35, 188]\n",
      "[180, 0, 35, 174]\n",
      "[181, 0, 34, 172]\n",
      "[182, 0, 35, 171]\n",
      "[183, 0, 35, 163]\n",
      "[184, 0, 34, 155]\n",
      "[185, 0, 35, 147]\n",
      "[186, 0, 37, 142]\n",
      "[187, 0, 38, 140]\n",
      "[188, 0, 38, 143]\n",
      "[189, 0, 40, 138]\n",
      "[190, 0, 39, 136]\n",
      "[191, 0, 40, 129]\n",
      "[192, 0, 41, 129]\n",
      "[193, 0, 39, 119]\n",
      "[194, 0, 39, 117]\n",
      "[195, 0, 40, 120]\n",
      "[196, 0, 40, 128]\n",
      "[197, 0, 40, 125]\n",
      "[198, 0, 35, 131]\n",
      "[199, 0, 34, 137]\n",
      "[200, 0, 32, 137]\n",
      "\n",
      "Final number wolves:  0\n",
      "Final number sheep:  32\n",
      "Final number grass:  137\n"
     ]
    }
   ],
   "source": [
    "model.run_model()"
   ]
  },
  {
   "cell_type": "markdown",
   "id": "2bb5dc82",
   "metadata": {},
   "source": [
    "Now, let's plot the evolution of our populations:"
   ]
  },
  {
   "cell_type": "code",
   "execution_count": 31,
   "id": "69688688",
   "metadata": {},
   "outputs": [
    {
     "data": {
      "application/vnd.plotly.v1+json": {
       "config": {
        "plotlyServerURL": "https://plot.ly"
       },
       "data": [
        {
         "line": {
          "width": 1
         },
         "mode": "lines",
         "name": "Sheeps",
         "showlegend": true,
         "type": "scatter",
         "x": [
          1,
          2,
          3,
          4,
          5,
          6,
          7,
          8,
          9,
          10,
          11,
          12,
          13,
          14,
          15,
          16,
          17,
          18,
          19,
          20,
          21,
          22,
          23,
          24,
          25,
          26,
          27,
          28,
          29,
          30,
          31,
          32,
          33,
          34,
          35,
          36,
          37,
          38,
          39,
          40,
          41,
          42,
          43,
          44,
          45,
          46,
          47,
          48,
          49,
          50,
          51,
          52,
          53,
          54,
          55,
          56,
          57,
          58,
          59,
          60,
          61,
          62,
          63,
          64,
          65,
          66,
          67,
          68,
          69,
          70,
          71,
          72,
          73,
          74,
          75,
          76,
          77,
          78,
          79,
          80,
          81,
          82,
          83,
          84,
          85,
          86,
          87,
          88,
          89,
          90,
          91,
          92,
          93,
          94,
          95,
          96,
          97,
          98,
          99,
          100,
          101,
          102,
          103,
          104,
          105,
          106,
          107,
          108,
          109,
          110,
          111,
          112,
          113,
          114,
          115,
          116,
          117,
          118,
          119,
          120,
          121,
          122,
          123,
          124,
          125,
          126,
          127,
          128,
          129,
          130,
          131,
          132,
          133,
          134,
          135,
          136,
          137,
          138,
          139,
          140,
          141,
          142,
          143,
          144,
          145,
          146,
          147,
          148,
          149,
          150,
          151,
          152,
          153,
          154,
          155,
          156,
          157,
          158,
          159,
          160,
          161,
          162,
          163,
          164,
          165,
          166,
          167,
          168,
          169,
          170,
          171,
          172,
          173,
          174,
          175,
          176,
          177,
          178,
          179,
          180,
          181,
          182,
          183,
          184,
          185,
          186,
          187,
          188,
          189,
          190,
          191,
          192,
          193,
          194,
          195,
          196,
          197,
          198,
          199
         ],
         "y": [
          84,
          75,
          65,
          59,
          45,
          41,
          36,
          27,
          25,
          17,
          19,
          16,
          12,
          11,
          11,
          9,
          8,
          7,
          8,
          5,
          4,
          4,
          4,
          5,
          5,
          5,
          3,
          2,
          2,
          2,
          1,
          1,
          1,
          1,
          1,
          2,
          2,
          2,
          2,
          2,
          2,
          2,
          2,
          2,
          2,
          1,
          1,
          1,
          1,
          1,
          1,
          1,
          1,
          1,
          1,
          1,
          2,
          2,
          2,
          2,
          2,
          2,
          2,
          2,
          2,
          2,
          2,
          3,
          3,
          3,
          3,
          4,
          4,
          4,
          4,
          4,
          3,
          3,
          4,
          5,
          5,
          5,
          5,
          5,
          5,
          5,
          6,
          6,
          6,
          6,
          6,
          6,
          7,
          7,
          7,
          8,
          8,
          10,
          9,
          9,
          10,
          10,
          10,
          10,
          10,
          11,
          11,
          11,
          11,
          11,
          11,
          11,
          11,
          10,
          10,
          12,
          12,
          15,
          16,
          16,
          14,
          12,
          12,
          12,
          13,
          14,
          15,
          15,
          16,
          17,
          17,
          16,
          16,
          18,
          19,
          18,
          18,
          18,
          18,
          18,
          17,
          18,
          19,
          20,
          21,
          21,
          21,
          22,
          22,
          22,
          21,
          21,
          23,
          24,
          23,
          24,
          24,
          24,
          24,
          24,
          23,
          23,
          24,
          24,
          23,
          24,
          25,
          25,
          26,
          26,
          26,
          27,
          27,
          27,
          27,
          30,
          33,
          35,
          35,
          35,
          34,
          35,
          35,
          34,
          35,
          37,
          38,
          38,
          40,
          39,
          40,
          41,
          39,
          39,
          40,
          40,
          40,
          35,
          34,
          32
         ]
        },
        {
         "line": {
          "width": 1
         },
         "mode": "lines",
         "name": "Wolves",
         "showlegend": true,
         "type": "scatter",
         "x": [
          1,
          2,
          3,
          4,
          5,
          6,
          7,
          8,
          9,
          10,
          11,
          12,
          13,
          14,
          15,
          16,
          17,
          18,
          19,
          20,
          21,
          22,
          23,
          24,
          25,
          26,
          27,
          28,
          29,
          30,
          31,
          32,
          33,
          34,
          35,
          36,
          37,
          38,
          39,
          40,
          41,
          42,
          43,
          44,
          45,
          46,
          47,
          48,
          49,
          50,
          51,
          52,
          53,
          54,
          55,
          56,
          57,
          58,
          59,
          60,
          61,
          62,
          63,
          64,
          65,
          66,
          67,
          68,
          69,
          70,
          71,
          72,
          73,
          74,
          75,
          76,
          77,
          78,
          79,
          80,
          81,
          82,
          83,
          84,
          85,
          86,
          87,
          88,
          89,
          90,
          91,
          92,
          93,
          94,
          95,
          96,
          97,
          98,
          99,
          100,
          101,
          102,
          103,
          104,
          105,
          106,
          107,
          108,
          109,
          110,
          111,
          112,
          113,
          114,
          115,
          116,
          117,
          118,
          119,
          120,
          121,
          122,
          123,
          124,
          125,
          126,
          127,
          128,
          129,
          130,
          131,
          132,
          133,
          134,
          135,
          136,
          137,
          138,
          139,
          140,
          141,
          142,
          143,
          144,
          145,
          146,
          147,
          148,
          149,
          150,
          151,
          152,
          153,
          154,
          155,
          156,
          157,
          158,
          159,
          160,
          161,
          162,
          163,
          164,
          165,
          166,
          167,
          168,
          169,
          170,
          171,
          172,
          173,
          174,
          175,
          176,
          177,
          178,
          179,
          180,
          181,
          182,
          183,
          184,
          185,
          186,
          187,
          188,
          189,
          190,
          191,
          192,
          193,
          194,
          195,
          196,
          197,
          198,
          199
         ],
         "y": [
          53,
          55,
          57,
          59,
          62,
          63,
          69,
          72,
          76,
          76,
          70,
          69,
          68,
          64,
          64,
          66,
          66,
          62,
          59,
          58,
          55,
          56,
          53,
          48,
          51,
          47,
          44,
          43,
          44,
          40,
          37,
          36,
          37,
          35,
          37,
          38,
          32,
          33,
          31,
          29,
          29,
          26,
          24,
          20,
          18,
          16,
          14,
          12,
          13,
          9,
          8,
          9,
          8,
          6,
          7,
          5,
          5,
          2,
          2,
          0,
          0,
          0,
          0,
          0,
          0,
          0,
          0,
          0,
          0,
          0,
          0,
          0,
          0,
          0,
          0,
          0,
          0,
          0,
          0,
          0,
          0,
          0,
          0,
          0,
          0,
          0,
          0,
          0,
          0,
          0,
          0,
          0,
          0,
          0,
          0,
          0,
          0,
          0,
          0,
          0,
          0,
          0,
          0,
          0,
          0,
          0,
          0,
          0,
          0,
          0,
          0,
          0,
          0,
          0,
          0,
          0,
          0,
          0,
          0,
          0,
          0,
          0,
          0,
          0,
          0,
          0,
          0,
          0,
          0,
          0,
          0,
          0,
          0,
          0,
          0,
          0,
          0,
          0,
          0,
          0,
          0,
          0,
          0,
          0,
          0,
          0,
          0,
          0,
          0,
          0,
          0,
          0,
          0,
          0,
          0,
          0,
          0,
          0,
          0,
          0,
          0,
          0,
          0,
          0,
          0,
          0,
          0,
          0,
          0,
          0,
          0,
          0,
          0,
          0,
          0,
          0,
          0,
          0,
          0,
          0,
          0,
          0,
          0,
          0,
          0,
          0,
          0,
          0,
          0,
          0,
          0,
          0,
          0,
          0,
          0,
          0,
          0,
          0,
          0,
          0
         ]
        },
        {
         "line": {
          "width": 1
         },
         "marker": {
          "color": "#444"
         },
         "mode": "lines",
         "name": "Grass",
         "showlegend": true,
         "type": "scatter",
         "x": [
          1,
          2,
          3,
          4,
          5,
          6,
          7,
          8,
          9,
          10,
          11,
          12,
          13,
          14,
          15,
          16,
          17,
          18,
          19,
          20,
          21,
          22,
          23,
          24,
          25,
          26,
          27,
          28,
          29,
          30,
          31,
          32,
          33,
          34,
          35,
          36,
          37,
          38,
          39,
          40,
          41,
          42,
          43,
          44,
          45,
          46,
          47,
          48,
          49,
          50,
          51,
          52,
          53,
          54,
          55,
          56,
          57,
          58,
          59,
          60,
          61,
          62,
          63,
          64,
          65,
          66,
          67,
          68,
          69,
          70,
          71,
          72,
          73,
          74,
          75,
          76,
          77,
          78,
          79,
          80,
          81,
          82,
          83,
          84,
          85,
          86,
          87,
          88,
          89,
          90,
          91,
          92,
          93,
          94,
          95,
          96,
          97,
          98,
          99,
          100,
          101,
          102,
          103,
          104,
          105,
          106,
          107,
          108,
          109,
          110,
          111,
          112,
          113,
          114,
          115,
          116,
          117,
          118,
          119,
          120,
          121,
          122,
          123,
          124,
          125,
          126,
          127,
          128,
          129,
          130,
          131,
          132,
          133,
          134,
          135,
          136,
          137,
          138,
          139,
          140,
          141,
          142,
          143,
          144,
          145,
          146,
          147,
          148,
          149,
          150,
          151,
          152,
          153,
          154,
          155,
          156,
          157,
          158,
          159,
          160,
          161,
          162,
          163,
          164,
          165,
          166,
          167,
          168,
          169,
          170,
          171,
          172,
          173,
          174,
          175,
          176,
          177,
          178,
          179,
          180,
          181,
          182,
          183,
          184,
          185,
          186,
          187,
          188,
          189,
          190,
          191,
          192,
          193,
          194,
          195,
          196,
          197,
          198,
          199
         ],
         "y": [
          147,
          137,
          119,
          107,
          108,
          109,
          112,
          112,
          115,
          127,
          133,
          137,
          146,
          154,
          157,
          160,
          166,
          166,
          171,
          177,
          180,
          188,
          192,
          198,
          203,
          210,
          213,
          219,
          224,
          233,
          273,
          291,
          309,
          308,
          326,
          326,
          338,
          336,
          340,
          347,
          346,
          352,
          352,
          356,
          363,
          368,
          371,
          371,
          377,
          378,
          378,
          379,
          380,
          380,
          379,
          382,
          381,
          383,
          382,
          381,
          381,
          380,
          380,
          380,
          379,
          379,
          379,
          380,
          379,
          379,
          380,
          381,
          380,
          380,
          379,
          377,
          376,
          375,
          374,
          371,
          369,
          365,
          362,
          361,
          359,
          355,
          355,
          355,
          351,
          351,
          350,
          348,
          345,
          343,
          343,
          338,
          335,
          332,
          327,
          324,
          320,
          316,
          314,
          311,
          308,
          307,
          306,
          301,
          297,
          300,
          296,
          291,
          290,
          290,
          288,
          291,
          293,
          287,
          281,
          283,
          281,
          281,
          275,
          276,
          269,
          266,
          262,
          262,
          267,
          268,
          262,
          261,
          257,
          262,
          260,
          254,
          251,
          250,
          255,
          253,
          247,
          249,
          253,
          251,
          250,
          250,
          244,
          246,
          244,
          244,
          238,
          239,
          236,
          241,
          241,
          243,
          250,
          242,
          241,
          237,
          240,
          243,
          240,
          232,
          229,
          232,
          223,
          226,
          226,
          216,
          208,
          208,
          201,
          202,
          199,
          188,
          191,
          185,
          188,
          174,
          172,
          171,
          163,
          155,
          147,
          142,
          140,
          143,
          138,
          136,
          129,
          129,
          119,
          117,
          120,
          128,
          125,
          131,
          137,
          137
         ]
        }
       ],
       "layout": {
        "template": {
         "data": {
          "bar": [
           {
            "error_x": {
             "color": "#2a3f5f"
            },
            "error_y": {
             "color": "#2a3f5f"
            },
            "marker": {
             "line": {
              "color": "#E5ECF6",
              "width": 0.5
             },
             "pattern": {
              "fillmode": "overlay",
              "size": 10,
              "solidity": 0.2
             }
            },
            "type": "bar"
           }
          ],
          "barpolar": [
           {
            "marker": {
             "line": {
              "color": "#E5ECF6",
              "width": 0.5
             },
             "pattern": {
              "fillmode": "overlay",
              "size": 10,
              "solidity": 0.2
             }
            },
            "type": "barpolar"
           }
          ],
          "carpet": [
           {
            "aaxis": {
             "endlinecolor": "#2a3f5f",
             "gridcolor": "white",
             "linecolor": "white",
             "minorgridcolor": "white",
             "startlinecolor": "#2a3f5f"
            },
            "baxis": {
             "endlinecolor": "#2a3f5f",
             "gridcolor": "white",
             "linecolor": "white",
             "minorgridcolor": "white",
             "startlinecolor": "#2a3f5f"
            },
            "type": "carpet"
           }
          ],
          "choropleth": [
           {
            "colorbar": {
             "outlinewidth": 0,
             "ticks": ""
            },
            "type": "choropleth"
           }
          ],
          "contour": [
           {
            "colorbar": {
             "outlinewidth": 0,
             "ticks": ""
            },
            "colorscale": [
             [
              0,
              "#0d0887"
             ],
             [
              0.1111111111111111,
              "#46039f"
             ],
             [
              0.2222222222222222,
              "#7201a8"
             ],
             [
              0.3333333333333333,
              "#9c179e"
             ],
             [
              0.4444444444444444,
              "#bd3786"
             ],
             [
              0.5555555555555556,
              "#d8576b"
             ],
             [
              0.6666666666666666,
              "#ed7953"
             ],
             [
              0.7777777777777778,
              "#fb9f3a"
             ],
             [
              0.8888888888888888,
              "#fdca26"
             ],
             [
              1,
              "#f0f921"
             ]
            ],
            "type": "contour"
           }
          ],
          "contourcarpet": [
           {
            "colorbar": {
             "outlinewidth": 0,
             "ticks": ""
            },
            "type": "contourcarpet"
           }
          ],
          "heatmap": [
           {
            "colorbar": {
             "outlinewidth": 0,
             "ticks": ""
            },
            "colorscale": [
             [
              0,
              "#0d0887"
             ],
             [
              0.1111111111111111,
              "#46039f"
             ],
             [
              0.2222222222222222,
              "#7201a8"
             ],
             [
              0.3333333333333333,
              "#9c179e"
             ],
             [
              0.4444444444444444,
              "#bd3786"
             ],
             [
              0.5555555555555556,
              "#d8576b"
             ],
             [
              0.6666666666666666,
              "#ed7953"
             ],
             [
              0.7777777777777778,
              "#fb9f3a"
             ],
             [
              0.8888888888888888,
              "#fdca26"
             ],
             [
              1,
              "#f0f921"
             ]
            ],
            "type": "heatmap"
           }
          ],
          "heatmapgl": [
           {
            "colorbar": {
             "outlinewidth": 0,
             "ticks": ""
            },
            "colorscale": [
             [
              0,
              "#0d0887"
             ],
             [
              0.1111111111111111,
              "#46039f"
             ],
             [
              0.2222222222222222,
              "#7201a8"
             ],
             [
              0.3333333333333333,
              "#9c179e"
             ],
             [
              0.4444444444444444,
              "#bd3786"
             ],
             [
              0.5555555555555556,
              "#d8576b"
             ],
             [
              0.6666666666666666,
              "#ed7953"
             ],
             [
              0.7777777777777778,
              "#fb9f3a"
             ],
             [
              0.8888888888888888,
              "#fdca26"
             ],
             [
              1,
              "#f0f921"
             ]
            ],
            "type": "heatmapgl"
           }
          ],
          "histogram": [
           {
            "marker": {
             "pattern": {
              "fillmode": "overlay",
              "size": 10,
              "solidity": 0.2
             }
            },
            "type": "histogram"
           }
          ],
          "histogram2d": [
           {
            "colorbar": {
             "outlinewidth": 0,
             "ticks": ""
            },
            "colorscale": [
             [
              0,
              "#0d0887"
             ],
             [
              0.1111111111111111,
              "#46039f"
             ],
             [
              0.2222222222222222,
              "#7201a8"
             ],
             [
              0.3333333333333333,
              "#9c179e"
             ],
             [
              0.4444444444444444,
              "#bd3786"
             ],
             [
              0.5555555555555556,
              "#d8576b"
             ],
             [
              0.6666666666666666,
              "#ed7953"
             ],
             [
              0.7777777777777778,
              "#fb9f3a"
             ],
             [
              0.8888888888888888,
              "#fdca26"
             ],
             [
              1,
              "#f0f921"
             ]
            ],
            "type": "histogram2d"
           }
          ],
          "histogram2dcontour": [
           {
            "colorbar": {
             "outlinewidth": 0,
             "ticks": ""
            },
            "colorscale": [
             [
              0,
              "#0d0887"
             ],
             [
              0.1111111111111111,
              "#46039f"
             ],
             [
              0.2222222222222222,
              "#7201a8"
             ],
             [
              0.3333333333333333,
              "#9c179e"
             ],
             [
              0.4444444444444444,
              "#bd3786"
             ],
             [
              0.5555555555555556,
              "#d8576b"
             ],
             [
              0.6666666666666666,
              "#ed7953"
             ],
             [
              0.7777777777777778,
              "#fb9f3a"
             ],
             [
              0.8888888888888888,
              "#fdca26"
             ],
             [
              1,
              "#f0f921"
             ]
            ],
            "type": "histogram2dcontour"
           }
          ],
          "mesh3d": [
           {
            "colorbar": {
             "outlinewidth": 0,
             "ticks": ""
            },
            "type": "mesh3d"
           }
          ],
          "parcoords": [
           {
            "line": {
             "colorbar": {
              "outlinewidth": 0,
              "ticks": ""
             }
            },
            "type": "parcoords"
           }
          ],
          "pie": [
           {
            "automargin": true,
            "type": "pie"
           }
          ],
          "scatter": [
           {
            "fillpattern": {
             "fillmode": "overlay",
             "size": 10,
             "solidity": 0.2
            },
            "type": "scatter"
           }
          ],
          "scatter3d": [
           {
            "line": {
             "colorbar": {
              "outlinewidth": 0,
              "ticks": ""
             }
            },
            "marker": {
             "colorbar": {
              "outlinewidth": 0,
              "ticks": ""
             }
            },
            "type": "scatter3d"
           }
          ],
          "scattercarpet": [
           {
            "marker": {
             "colorbar": {
              "outlinewidth": 0,
              "ticks": ""
             }
            },
            "type": "scattercarpet"
           }
          ],
          "scattergeo": [
           {
            "marker": {
             "colorbar": {
              "outlinewidth": 0,
              "ticks": ""
             }
            },
            "type": "scattergeo"
           }
          ],
          "scattergl": [
           {
            "marker": {
             "colorbar": {
              "outlinewidth": 0,
              "ticks": ""
             }
            },
            "type": "scattergl"
           }
          ],
          "scattermapbox": [
           {
            "marker": {
             "colorbar": {
              "outlinewidth": 0,
              "ticks": ""
             }
            },
            "type": "scattermapbox"
           }
          ],
          "scatterpolar": [
           {
            "marker": {
             "colorbar": {
              "outlinewidth": 0,
              "ticks": ""
             }
            },
            "type": "scatterpolar"
           }
          ],
          "scatterpolargl": [
           {
            "marker": {
             "colorbar": {
              "outlinewidth": 0,
              "ticks": ""
             }
            },
            "type": "scatterpolargl"
           }
          ],
          "scatterternary": [
           {
            "marker": {
             "colorbar": {
              "outlinewidth": 0,
              "ticks": ""
             }
            },
            "type": "scatterternary"
           }
          ],
          "surface": [
           {
            "colorbar": {
             "outlinewidth": 0,
             "ticks": ""
            },
            "colorscale": [
             [
              0,
              "#0d0887"
             ],
             [
              0.1111111111111111,
              "#46039f"
             ],
             [
              0.2222222222222222,
              "#7201a8"
             ],
             [
              0.3333333333333333,
              "#9c179e"
             ],
             [
              0.4444444444444444,
              "#bd3786"
             ],
             [
              0.5555555555555556,
              "#d8576b"
             ],
             [
              0.6666666666666666,
              "#ed7953"
             ],
             [
              0.7777777777777778,
              "#fb9f3a"
             ],
             [
              0.8888888888888888,
              "#fdca26"
             ],
             [
              1,
              "#f0f921"
             ]
            ],
            "type": "surface"
           }
          ],
          "table": [
           {
            "cells": {
             "fill": {
              "color": "#EBF0F8"
             },
             "line": {
              "color": "white"
             }
            },
            "header": {
             "fill": {
              "color": "#C8D4E3"
             },
             "line": {
              "color": "white"
             }
            },
            "type": "table"
           }
          ]
         },
         "layout": {
          "annotationdefaults": {
           "arrowcolor": "#2a3f5f",
           "arrowhead": 0,
           "arrowwidth": 1
          },
          "autotypenumbers": "strict",
          "coloraxis": {
           "colorbar": {
            "outlinewidth": 0,
            "ticks": ""
           }
          },
          "colorscale": {
           "diverging": [
            [
             0,
             "#8e0152"
            ],
            [
             0.1,
             "#c51b7d"
            ],
            [
             0.2,
             "#de77ae"
            ],
            [
             0.3,
             "#f1b6da"
            ],
            [
             0.4,
             "#fde0ef"
            ],
            [
             0.5,
             "#f7f7f7"
            ],
            [
             0.6,
             "#e6f5d0"
            ],
            [
             0.7,
             "#b8e186"
            ],
            [
             0.8,
             "#7fbc41"
            ],
            [
             0.9,
             "#4d9221"
            ],
            [
             1,
             "#276419"
            ]
           ],
           "sequential": [
            [
             0,
             "#0d0887"
            ],
            [
             0.1111111111111111,
             "#46039f"
            ],
            [
             0.2222222222222222,
             "#7201a8"
            ],
            [
             0.3333333333333333,
             "#9c179e"
            ],
            [
             0.4444444444444444,
             "#bd3786"
            ],
            [
             0.5555555555555556,
             "#d8576b"
            ],
            [
             0.6666666666666666,
             "#ed7953"
            ],
            [
             0.7777777777777778,
             "#fb9f3a"
            ],
            [
             0.8888888888888888,
             "#fdca26"
            ],
            [
             1,
             "#f0f921"
            ]
           ],
           "sequentialminus": [
            [
             0,
             "#0d0887"
            ],
            [
             0.1111111111111111,
             "#46039f"
            ],
            [
             0.2222222222222222,
             "#7201a8"
            ],
            [
             0.3333333333333333,
             "#9c179e"
            ],
            [
             0.4444444444444444,
             "#bd3786"
            ],
            [
             0.5555555555555556,
             "#d8576b"
            ],
            [
             0.6666666666666666,
             "#ed7953"
            ],
            [
             0.7777777777777778,
             "#fb9f3a"
            ],
            [
             0.8888888888888888,
             "#fdca26"
            ],
            [
             1,
             "#f0f921"
            ]
           ]
          },
          "colorway": [
           "#636efa",
           "#EF553B",
           "#00cc96",
           "#ab63fa",
           "#FFA15A",
           "#19d3f3",
           "#FF6692",
           "#B6E880",
           "#FF97FF",
           "#FECB52"
          ],
          "font": {
           "color": "#2a3f5f"
          },
          "geo": {
           "bgcolor": "white",
           "lakecolor": "white",
           "landcolor": "#E5ECF6",
           "showlakes": true,
           "showland": true,
           "subunitcolor": "white"
          },
          "hoverlabel": {
           "align": "left"
          },
          "hovermode": "closest",
          "mapbox": {
           "style": "light"
          },
          "paper_bgcolor": "white",
          "plot_bgcolor": "#E5ECF6",
          "polar": {
           "angularaxis": {
            "gridcolor": "white",
            "linecolor": "white",
            "ticks": ""
           },
           "bgcolor": "#E5ECF6",
           "radialaxis": {
            "gridcolor": "white",
            "linecolor": "white",
            "ticks": ""
           }
          },
          "scene": {
           "xaxis": {
            "backgroundcolor": "#E5ECF6",
            "gridcolor": "white",
            "gridwidth": 2,
            "linecolor": "white",
            "showbackground": true,
            "ticks": "",
            "zerolinecolor": "white"
           },
           "yaxis": {
            "backgroundcolor": "#E5ECF6",
            "gridcolor": "white",
            "gridwidth": 2,
            "linecolor": "white",
            "showbackground": true,
            "ticks": "",
            "zerolinecolor": "white"
           },
           "zaxis": {
            "backgroundcolor": "#E5ECF6",
            "gridcolor": "white",
            "gridwidth": 2,
            "linecolor": "white",
            "showbackground": true,
            "ticks": "",
            "zerolinecolor": "white"
           }
          },
          "shapedefaults": {
           "line": {
            "color": "#2a3f5f"
           }
          },
          "ternary": {
           "aaxis": {
            "gridcolor": "white",
            "linecolor": "white",
            "ticks": ""
           },
           "baxis": {
            "gridcolor": "white",
            "linecolor": "white",
            "ticks": ""
           },
           "bgcolor": "#E5ECF6",
           "caxis": {
            "gridcolor": "white",
            "linecolor": "white",
            "ticks": ""
           }
          },
          "title": {
           "x": 0.05
          },
          "xaxis": {
           "automargin": true,
           "gridcolor": "white",
           "linecolor": "white",
           "ticks": "",
           "title": {
            "standoff": 15
           },
           "zerolinecolor": "white",
           "zerolinewidth": 2
          },
          "yaxis": {
           "automargin": true,
           "gridcolor": "white",
           "linecolor": "white",
           "ticks": "",
           "title": {
            "standoff": 15
           },
           "zerolinecolor": "white",
           "zerolinewidth": 2
          }
         }
        }
       }
      },
      "text/html": [
       "<div>                            <div id=\"adfbaa4c-6b9f-4650-8f1d-82dc7a73f2be\" class=\"plotly-graph-div\" style=\"height:525px; width:100%;\"></div>            <script type=\"text/javascript\">                require([\"plotly\"], function(Plotly) {                    window.PLOTLYENV=window.PLOTLYENV || {};                                    if (document.getElementById(\"adfbaa4c-6b9f-4650-8f1d-82dc7a73f2be\")) {                    Plotly.newPlot(                        \"adfbaa4c-6b9f-4650-8f1d-82dc7a73f2be\",                        [{\"line\":{\"width\":1},\"mode\":\"lines\",\"name\":\"Sheeps\",\"showlegend\":true,\"x\":[1,2,3,4,5,6,7,8,9,10,11,12,13,14,15,16,17,18,19,20,21,22,23,24,25,26,27,28,29,30,31,32,33,34,35,36,37,38,39,40,41,42,43,44,45,46,47,48,49,50,51,52,53,54,55,56,57,58,59,60,61,62,63,64,65,66,67,68,69,70,71,72,73,74,75,76,77,78,79,80,81,82,83,84,85,86,87,88,89,90,91,92,93,94,95,96,97,98,99,100,101,102,103,104,105,106,107,108,109,110,111,112,113,114,115,116,117,118,119,120,121,122,123,124,125,126,127,128,129,130,131,132,133,134,135,136,137,138,139,140,141,142,143,144,145,146,147,148,149,150,151,152,153,154,155,156,157,158,159,160,161,162,163,164,165,166,167,168,169,170,171,172,173,174,175,176,177,178,179,180,181,182,183,184,185,186,187,188,189,190,191,192,193,194,195,196,197,198,199],\"y\":[84,75,65,59,45,41,36,27,25,17,19,16,12,11,11,9,8,7,8,5,4,4,4,5,5,5,3,2,2,2,1,1,1,1,1,2,2,2,2,2,2,2,2,2,2,1,1,1,1,1,1,1,1,1,1,1,2,2,2,2,2,2,2,2,2,2,2,3,3,3,3,4,4,4,4,4,3,3,4,5,5,5,5,5,5,5,6,6,6,6,6,6,7,7,7,8,8,10,9,9,10,10,10,10,10,11,11,11,11,11,11,11,11,10,10,12,12,15,16,16,14,12,12,12,13,14,15,15,16,17,17,16,16,18,19,18,18,18,18,18,17,18,19,20,21,21,21,22,22,22,21,21,23,24,23,24,24,24,24,24,23,23,24,24,23,24,25,25,26,26,26,27,27,27,27,30,33,35,35,35,34,35,35,34,35,37,38,38,40,39,40,41,39,39,40,40,40,35,34,32],\"type\":\"scatter\"},{\"line\":{\"width\":1},\"mode\":\"lines\",\"name\":\"Wolves\",\"showlegend\":true,\"x\":[1,2,3,4,5,6,7,8,9,10,11,12,13,14,15,16,17,18,19,20,21,22,23,24,25,26,27,28,29,30,31,32,33,34,35,36,37,38,39,40,41,42,43,44,45,46,47,48,49,50,51,52,53,54,55,56,57,58,59,60,61,62,63,64,65,66,67,68,69,70,71,72,73,74,75,76,77,78,79,80,81,82,83,84,85,86,87,88,89,90,91,92,93,94,95,96,97,98,99,100,101,102,103,104,105,106,107,108,109,110,111,112,113,114,115,116,117,118,119,120,121,122,123,124,125,126,127,128,129,130,131,132,133,134,135,136,137,138,139,140,141,142,143,144,145,146,147,148,149,150,151,152,153,154,155,156,157,158,159,160,161,162,163,164,165,166,167,168,169,170,171,172,173,174,175,176,177,178,179,180,181,182,183,184,185,186,187,188,189,190,191,192,193,194,195,196,197,198,199],\"y\":[53,55,57,59,62,63,69,72,76,76,70,69,68,64,64,66,66,62,59,58,55,56,53,48,51,47,44,43,44,40,37,36,37,35,37,38,32,33,31,29,29,26,24,20,18,16,14,12,13,9,8,9,8,6,7,5,5,2,2,0,0,0,0,0,0,0,0,0,0,0,0,0,0,0,0,0,0,0,0,0,0,0,0,0,0,0,0,0,0,0,0,0,0,0,0,0,0,0,0,0,0,0,0,0,0,0,0,0,0,0,0,0,0,0,0,0,0,0,0,0,0,0,0,0,0,0,0,0,0,0,0,0,0,0,0,0,0,0,0,0,0,0,0,0,0,0,0,0,0,0,0,0,0,0,0,0,0,0,0,0,0,0,0,0,0,0,0,0,0,0,0,0,0,0,0,0,0,0,0,0,0,0,0,0,0,0,0,0,0,0,0,0,0,0,0,0,0,0,0,0],\"type\":\"scatter\"},{\"line\":{\"width\":1},\"marker\":{\"color\":\"#444\"},\"mode\":\"lines\",\"name\":\"Grass\",\"showlegend\":true,\"x\":[1,2,3,4,5,6,7,8,9,10,11,12,13,14,15,16,17,18,19,20,21,22,23,24,25,26,27,28,29,30,31,32,33,34,35,36,37,38,39,40,41,42,43,44,45,46,47,48,49,50,51,52,53,54,55,56,57,58,59,60,61,62,63,64,65,66,67,68,69,70,71,72,73,74,75,76,77,78,79,80,81,82,83,84,85,86,87,88,89,90,91,92,93,94,95,96,97,98,99,100,101,102,103,104,105,106,107,108,109,110,111,112,113,114,115,116,117,118,119,120,121,122,123,124,125,126,127,128,129,130,131,132,133,134,135,136,137,138,139,140,141,142,143,144,145,146,147,148,149,150,151,152,153,154,155,156,157,158,159,160,161,162,163,164,165,166,167,168,169,170,171,172,173,174,175,176,177,178,179,180,181,182,183,184,185,186,187,188,189,190,191,192,193,194,195,196,197,198,199],\"y\":[147,137,119,107,108,109,112,112,115,127,133,137,146,154,157,160,166,166,171,177,180,188,192,198,203,210,213,219,224,233,273,291,309,308,326,326,338,336,340,347,346,352,352,356,363,368,371,371,377,378,378,379,380,380,379,382,381,383,382,381,381,380,380,380,379,379,379,380,379,379,380,381,380,380,379,377,376,375,374,371,369,365,362,361,359,355,355,355,351,351,350,348,345,343,343,338,335,332,327,324,320,316,314,311,308,307,306,301,297,300,296,291,290,290,288,291,293,287,281,283,281,281,275,276,269,266,262,262,267,268,262,261,257,262,260,254,251,250,255,253,247,249,253,251,250,250,244,246,244,244,238,239,236,241,241,243,250,242,241,237,240,243,240,232,229,232,223,226,226,216,208,208,201,202,199,188,191,185,188,174,172,171,163,155,147,142,140,143,138,136,129,129,119,117,120,128,125,131,137,137],\"type\":\"scatter\"}],                        {\"template\":{\"data\":{\"histogram2dcontour\":[{\"type\":\"histogram2dcontour\",\"colorbar\":{\"outlinewidth\":0,\"ticks\":\"\"},\"colorscale\":[[0.0,\"#0d0887\"],[0.1111111111111111,\"#46039f\"],[0.2222222222222222,\"#7201a8\"],[0.3333333333333333,\"#9c179e\"],[0.4444444444444444,\"#bd3786\"],[0.5555555555555556,\"#d8576b\"],[0.6666666666666666,\"#ed7953\"],[0.7777777777777778,\"#fb9f3a\"],[0.8888888888888888,\"#fdca26\"],[1.0,\"#f0f921\"]]}],\"choropleth\":[{\"type\":\"choropleth\",\"colorbar\":{\"outlinewidth\":0,\"ticks\":\"\"}}],\"histogram2d\":[{\"type\":\"histogram2d\",\"colorbar\":{\"outlinewidth\":0,\"ticks\":\"\"},\"colorscale\":[[0.0,\"#0d0887\"],[0.1111111111111111,\"#46039f\"],[0.2222222222222222,\"#7201a8\"],[0.3333333333333333,\"#9c179e\"],[0.4444444444444444,\"#bd3786\"],[0.5555555555555556,\"#d8576b\"],[0.6666666666666666,\"#ed7953\"],[0.7777777777777778,\"#fb9f3a\"],[0.8888888888888888,\"#fdca26\"],[1.0,\"#f0f921\"]]}],\"heatmap\":[{\"type\":\"heatmap\",\"colorbar\":{\"outlinewidth\":0,\"ticks\":\"\"},\"colorscale\":[[0.0,\"#0d0887\"],[0.1111111111111111,\"#46039f\"],[0.2222222222222222,\"#7201a8\"],[0.3333333333333333,\"#9c179e\"],[0.4444444444444444,\"#bd3786\"],[0.5555555555555556,\"#d8576b\"],[0.6666666666666666,\"#ed7953\"],[0.7777777777777778,\"#fb9f3a\"],[0.8888888888888888,\"#fdca26\"],[1.0,\"#f0f921\"]]}],\"heatmapgl\":[{\"type\":\"heatmapgl\",\"colorbar\":{\"outlinewidth\":0,\"ticks\":\"\"},\"colorscale\":[[0.0,\"#0d0887\"],[0.1111111111111111,\"#46039f\"],[0.2222222222222222,\"#7201a8\"],[0.3333333333333333,\"#9c179e\"],[0.4444444444444444,\"#bd3786\"],[0.5555555555555556,\"#d8576b\"],[0.6666666666666666,\"#ed7953\"],[0.7777777777777778,\"#fb9f3a\"],[0.8888888888888888,\"#fdca26\"],[1.0,\"#f0f921\"]]}],\"contourcarpet\":[{\"type\":\"contourcarpet\",\"colorbar\":{\"outlinewidth\":0,\"ticks\":\"\"}}],\"contour\":[{\"type\":\"contour\",\"colorbar\":{\"outlinewidth\":0,\"ticks\":\"\"},\"colorscale\":[[0.0,\"#0d0887\"],[0.1111111111111111,\"#46039f\"],[0.2222222222222222,\"#7201a8\"],[0.3333333333333333,\"#9c179e\"],[0.4444444444444444,\"#bd3786\"],[0.5555555555555556,\"#d8576b\"],[0.6666666666666666,\"#ed7953\"],[0.7777777777777778,\"#fb9f3a\"],[0.8888888888888888,\"#fdca26\"],[1.0,\"#f0f921\"]]}],\"surface\":[{\"type\":\"surface\",\"colorbar\":{\"outlinewidth\":0,\"ticks\":\"\"},\"colorscale\":[[0.0,\"#0d0887\"],[0.1111111111111111,\"#46039f\"],[0.2222222222222222,\"#7201a8\"],[0.3333333333333333,\"#9c179e\"],[0.4444444444444444,\"#bd3786\"],[0.5555555555555556,\"#d8576b\"],[0.6666666666666666,\"#ed7953\"],[0.7777777777777778,\"#fb9f3a\"],[0.8888888888888888,\"#fdca26\"],[1.0,\"#f0f921\"]]}],\"mesh3d\":[{\"type\":\"mesh3d\",\"colorbar\":{\"outlinewidth\":0,\"ticks\":\"\"}}],\"scatter\":[{\"fillpattern\":{\"fillmode\":\"overlay\",\"size\":10,\"solidity\":0.2},\"type\":\"scatter\"}],\"parcoords\":[{\"type\":\"parcoords\",\"line\":{\"colorbar\":{\"outlinewidth\":0,\"ticks\":\"\"}}}],\"scatterpolargl\":[{\"type\":\"scatterpolargl\",\"marker\":{\"colorbar\":{\"outlinewidth\":0,\"ticks\":\"\"}}}],\"bar\":[{\"error_x\":{\"color\":\"#2a3f5f\"},\"error_y\":{\"color\":\"#2a3f5f\"},\"marker\":{\"line\":{\"color\":\"#E5ECF6\",\"width\":0.5},\"pattern\":{\"fillmode\":\"overlay\",\"size\":10,\"solidity\":0.2}},\"type\":\"bar\"}],\"scattergeo\":[{\"type\":\"scattergeo\",\"marker\":{\"colorbar\":{\"outlinewidth\":0,\"ticks\":\"\"}}}],\"scatterpolar\":[{\"type\":\"scatterpolar\",\"marker\":{\"colorbar\":{\"outlinewidth\":0,\"ticks\":\"\"}}}],\"histogram\":[{\"marker\":{\"pattern\":{\"fillmode\":\"overlay\",\"size\":10,\"solidity\":0.2}},\"type\":\"histogram\"}],\"scattergl\":[{\"type\":\"scattergl\",\"marker\":{\"colorbar\":{\"outlinewidth\":0,\"ticks\":\"\"}}}],\"scatter3d\":[{\"type\":\"scatter3d\",\"line\":{\"colorbar\":{\"outlinewidth\":0,\"ticks\":\"\"}},\"marker\":{\"colorbar\":{\"outlinewidth\":0,\"ticks\":\"\"}}}],\"scattermapbox\":[{\"type\":\"scattermapbox\",\"marker\":{\"colorbar\":{\"outlinewidth\":0,\"ticks\":\"\"}}}],\"scatterternary\":[{\"type\":\"scatterternary\",\"marker\":{\"colorbar\":{\"outlinewidth\":0,\"ticks\":\"\"}}}],\"scattercarpet\":[{\"type\":\"scattercarpet\",\"marker\":{\"colorbar\":{\"outlinewidth\":0,\"ticks\":\"\"}}}],\"carpet\":[{\"aaxis\":{\"endlinecolor\":\"#2a3f5f\",\"gridcolor\":\"white\",\"linecolor\":\"white\",\"minorgridcolor\":\"white\",\"startlinecolor\":\"#2a3f5f\"},\"baxis\":{\"endlinecolor\":\"#2a3f5f\",\"gridcolor\":\"white\",\"linecolor\":\"white\",\"minorgridcolor\":\"white\",\"startlinecolor\":\"#2a3f5f\"},\"type\":\"carpet\"}],\"table\":[{\"cells\":{\"fill\":{\"color\":\"#EBF0F8\"},\"line\":{\"color\":\"white\"}},\"header\":{\"fill\":{\"color\":\"#C8D4E3\"},\"line\":{\"color\":\"white\"}},\"type\":\"table\"}],\"barpolar\":[{\"marker\":{\"line\":{\"color\":\"#E5ECF6\",\"width\":0.5},\"pattern\":{\"fillmode\":\"overlay\",\"size\":10,\"solidity\":0.2}},\"type\":\"barpolar\"}],\"pie\":[{\"automargin\":true,\"type\":\"pie\"}]},\"layout\":{\"autotypenumbers\":\"strict\",\"colorway\":[\"#636efa\",\"#EF553B\",\"#00cc96\",\"#ab63fa\",\"#FFA15A\",\"#19d3f3\",\"#FF6692\",\"#B6E880\",\"#FF97FF\",\"#FECB52\"],\"font\":{\"color\":\"#2a3f5f\"},\"hovermode\":\"closest\",\"hoverlabel\":{\"align\":\"left\"},\"paper_bgcolor\":\"white\",\"plot_bgcolor\":\"#E5ECF6\",\"polar\":{\"bgcolor\":\"#E5ECF6\",\"angularaxis\":{\"gridcolor\":\"white\",\"linecolor\":\"white\",\"ticks\":\"\"},\"radialaxis\":{\"gridcolor\":\"white\",\"linecolor\":\"white\",\"ticks\":\"\"}},\"ternary\":{\"bgcolor\":\"#E5ECF6\",\"aaxis\":{\"gridcolor\":\"white\",\"linecolor\":\"white\",\"ticks\":\"\"},\"baxis\":{\"gridcolor\":\"white\",\"linecolor\":\"white\",\"ticks\":\"\"},\"caxis\":{\"gridcolor\":\"white\",\"linecolor\":\"white\",\"ticks\":\"\"}},\"coloraxis\":{\"colorbar\":{\"outlinewidth\":0,\"ticks\":\"\"}},\"colorscale\":{\"sequential\":[[0.0,\"#0d0887\"],[0.1111111111111111,\"#46039f\"],[0.2222222222222222,\"#7201a8\"],[0.3333333333333333,\"#9c179e\"],[0.4444444444444444,\"#bd3786\"],[0.5555555555555556,\"#d8576b\"],[0.6666666666666666,\"#ed7953\"],[0.7777777777777778,\"#fb9f3a\"],[0.8888888888888888,\"#fdca26\"],[1.0,\"#f0f921\"]],\"sequentialminus\":[[0.0,\"#0d0887\"],[0.1111111111111111,\"#46039f\"],[0.2222222222222222,\"#7201a8\"],[0.3333333333333333,\"#9c179e\"],[0.4444444444444444,\"#bd3786\"],[0.5555555555555556,\"#d8576b\"],[0.6666666666666666,\"#ed7953\"],[0.7777777777777778,\"#fb9f3a\"],[0.8888888888888888,\"#fdca26\"],[1.0,\"#f0f921\"]],\"diverging\":[[0,\"#8e0152\"],[0.1,\"#c51b7d\"],[0.2,\"#de77ae\"],[0.3,\"#f1b6da\"],[0.4,\"#fde0ef\"],[0.5,\"#f7f7f7\"],[0.6,\"#e6f5d0\"],[0.7,\"#b8e186\"],[0.8,\"#7fbc41\"],[0.9,\"#4d9221\"],[1,\"#276419\"]]},\"xaxis\":{\"gridcolor\":\"white\",\"linecolor\":\"white\",\"ticks\":\"\",\"title\":{\"standoff\":15},\"zerolinecolor\":\"white\",\"automargin\":true,\"zerolinewidth\":2},\"yaxis\":{\"gridcolor\":\"white\",\"linecolor\":\"white\",\"ticks\":\"\",\"title\":{\"standoff\":15},\"zerolinecolor\":\"white\",\"automargin\":true,\"zerolinewidth\":2},\"scene\":{\"xaxis\":{\"backgroundcolor\":\"#E5ECF6\",\"gridcolor\":\"white\",\"linecolor\":\"white\",\"showbackground\":true,\"ticks\":\"\",\"zerolinecolor\":\"white\",\"gridwidth\":2},\"yaxis\":{\"backgroundcolor\":\"#E5ECF6\",\"gridcolor\":\"white\",\"linecolor\":\"white\",\"showbackground\":true,\"ticks\":\"\",\"zerolinecolor\":\"white\",\"gridwidth\":2},\"zaxis\":{\"backgroundcolor\":\"#E5ECF6\",\"gridcolor\":\"white\",\"linecolor\":\"white\",\"showbackground\":true,\"ticks\":\"\",\"zerolinecolor\":\"white\",\"gridwidth\":2}},\"shapedefaults\":{\"line\":{\"color\":\"#2a3f5f\"}},\"annotationdefaults\":{\"arrowcolor\":\"#2a3f5f\",\"arrowhead\":0,\"arrowwidth\":1},\"geo\":{\"bgcolor\":\"white\",\"landcolor\":\"#E5ECF6\",\"subunitcolor\":\"white\",\"showland\":true,\"showlakes\":true,\"lakecolor\":\"white\"},\"title\":{\"x\":0.05},\"mapbox\":{\"style\":\"light\"}}}},                        {\"responsive\": true}                    ).then(function(){\n",
       "                            \n",
       "var gd = document.getElementById('adfbaa4c-6b9f-4650-8f1d-82dc7a73f2be');\n",
       "var x = new MutationObserver(function (mutations, observer) {{\n",
       "        var display = window.getComputedStyle(gd).display;\n",
       "        if (!display || display === 'none') {{\n",
       "            console.log([gd, 'removed!']);\n",
       "            Plotly.purge(gd);\n",
       "            observer.disconnect();\n",
       "        }}\n",
       "}});\n",
       "\n",
       "// Listen for the removal of the full notebook cells\n",
       "var notebookContainer = gd.closest('#notebook-container');\n",
       "if (notebookContainer) {{\n",
       "    x.observe(notebookContainer, {childList: true});\n",
       "}}\n",
       "\n",
       "// Listen for the clearing of the current output cell\n",
       "var outputEl = gd.closest('.output');\n",
       "if (outputEl) {{\n",
       "    x.observe(outputEl, {childList: true});\n",
       "}}\n",
       "\n",
       "                        })                };                });            </script>        </div>"
      ]
     },
     "metadata": {},
     "output_type": "display_data"
    }
   ],
   "source": [
    "steps = [i for i in range(1, 100)]\n",
    "\n",
    "fig = go.Figure([\n",
    "    \n",
    "    go.Scatter(\n",
    "        name='Sheeps',\n",
    "        x=steps,\n",
    "        y=model.sheep_evolution,\n",
    "        mode='lines',\n",
    "        line=dict(width=1),\n",
    "        showlegend=True\n",
    "    ),\n",
    "    go.Scatter(\n",
    "        name='Wolves',\n",
    "        x=steps,\n",
    "        y=model.wolves_evolution,\n",
    "        mode='lines',\n",
    "        line=dict(width=1),\n",
    "        showlegend=True\n",
    "    ),\n",
    "    go.Scatter(\n",
    "        name='Grass',\n",
    "        x=steps,\n",
    "        y=model.grass_evolution,\n",
    "        marker=dict(color=\"#444\"),\n",
    "        line=dict(width=1),\n",
    "        mode='lines',\n",
    "        showlegend=True\n",
    "    )\n",
    "])\n",
    "\n",
    "fig.show()"
   ]
  }
 ],
 "metadata": {
  "kernelspec": {
   "display_name": "Python 3 (ipykernel)",
   "language": "python",
   "name": "python3"
  },
  "language_info": {
   "codemirror_mode": {
    "name": "ipython",
    "version": 3
   },
   "file_extension": ".py",
   "mimetype": "text/x-python",
   "name": "python",
   "nbconvert_exporter": "python",
   "pygments_lexer": "ipython3",
   "version": "3.7.5"
  }
 },
 "nbformat": 4,
 "nbformat_minor": 5
}
